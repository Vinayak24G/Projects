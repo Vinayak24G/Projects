{
 "cells": [
  {
   "cell_type": "code",
   "execution_count": 38,
   "id": "7e6b3af7-288b-4480-9165-866aaf973685",
   "metadata": {},
   "outputs": [],
   "source": [
    "#import libraries\n",
    "from bs4 import BeautifulSoup\n",
    "import requests\n",
    "import time\n",
    "import datetime\n",
    "\n",
    "import smtplib"
   ]
  },
  {
   "cell_type": "code",
   "execution_count": 42,
   "id": "527af082-43f0-4a90-8678-6b557ef99ed5",
   "metadata": {},
   "outputs": [
    {
     "name": "stdout",
     "output_type": "stream",
     "text": [
      "\n",
      "                       499\n",
      "                      \n",
      "\n",
      "                     DUDEME Data Nerd | Programmer T Shirt | Coding T Shirt for Coders | Developer T Shirt | Round Neck Cotton T-Shirt | Geek Half Sleeve T Shirt for Men & Women\n",
      "                    \n"
     ]
    }
   ],
   "source": [
    "#connect to website\n",
    "url = 'https://www.amazon.in/DUDEME-Programmer-Coding-Developer-T-Shirt/dp/B08SF4HF9J/ref=sr_1_fkmr2_1?crid=1VULECNBUWKLG&dib=eyJ2IjoiMSJ9.aNUH26ePpCpbB7AbIjC598dMrvZPu4IwLZN5Zl6E4_TYf8N0SmMGDygXTXhuD-9EAUc6lOW7IO1Mg6i8M-1R1vkbrOsLmxoCpehwx3u1ddDBg7_bvcO7fCUw_Qiafwou.8us4oik_Q5CO96q09HOS9Nftj_4zCGluk2jcKVIYn4M&dib_tag=se&keywords=data+analyst+shirt&qid=1710668029&sprefix=data+analyst+tshirt%2Caps%2C210&sr=8-1-fkmr2'\n",
    "\n",
    "headers = {\"User-Agent\": \"Mozilla/5.0 (Windows NT 10.0; Win64; x64) AppleWebKit/537.36 (KHTML, like Gecko) Chrome/122.0.0.0 Safari/537.36\"}\n",
    "\n",
    "page = requests.get(url, headers = headers)\n",
    "\n",
    "soup1 = BeautifulSoup(page.content, \"html.parser\")\n",
    "soup2 = BeautifulSoup(soup1.prettify(), 'html.parser')\n",
    "\n",
    "title = soup2.find(id = \"productTitle\").get_text()\n",
    "price = soup2.find(class_= 'a-price-whole').get_text()\n",
    "\n",
    "\n",
    "print(price)\n",
    "print(title)"
   ]
  },
  {
   "cell_type": "code",
   "execution_count": 43,
   "id": "1f8625f3-fb57-4b6e-8d60-56a333c604d2",
   "metadata": {},
   "outputs": [
    {
     "name": "stdout",
     "output_type": "stream",
     "text": [
      "DUDEME Data Nerd | Programmer T Shirt | Coding T Shirt for Coders | Developer T Shirt | Round Neck Cotton T-Shirt | Geek Half Sleeve T Shirt for Men & Women\n",
      "499\n"
     ]
    },
    {
     "data": {
      "text/plain": [
       "str"
      ]
     },
     "execution_count": 43,
     "metadata": {},
     "output_type": "execute_result"
    }
   ],
   "source": [
    "price = price.strip()\n",
    "title = title.strip()\n",
    "\n",
    "print(title)\n",
    "print(price)\n",
    "\n",
    "type(price)"
   ]
  },
  {
   "cell_type": "code",
   "execution_count": 46,
   "id": "e7e43244-32c9-4a31-8250-55c4f51e5e5b",
   "metadata": {},
   "outputs": [
    {
     "name": "stdout",
     "output_type": "stream",
     "text": [
      "2024-03-17\n"
     ]
    }
   ],
   "source": [
    "import datetime\n",
    "today = datetime.date.today()\n",
    "print(today)"
   ]
  },
  {
   "cell_type": "code",
   "execution_count": 51,
   "id": "74195d9e-8b84-43c3-86da-2cea352413d8",
   "metadata": {},
   "outputs": [],
   "source": [
    "import csv\n",
    "\n",
    "header = ['Title', 'Price', 'Date']\n",
    "data = [title,price, today]\n",
    "\n",
    "with open('AmazonWebScraperDataset.csv', 'w', newline = '',encoding = 'UTF8') as f:\n",
    "    writer = csv.writer(f)\n",
    "    writer.writerow(header)\n",
    "    writer.writerow(data)\n",
    "\n"
   ]
  },
  {
   "cell_type": "code",
   "execution_count": 57,
   "id": "7f3508f0-1fb3-47e2-b7c4-646a003a4573",
   "metadata": {},
   "outputs": [
    {
     "name": "stdout",
     "output_type": "stream",
     "text": [
      "                                               Title  Price        Date\n",
      "0  DUDEME Data Nerd | Programmer T Shirt | Coding...    499  2024-03-17\n",
      "1  DUDEME Data Nerd | Programmer T Shirt | Coding...    499  2024-03-17\n",
      "2  DUDEME Data Nerd | Programmer T Shirt | Coding...    499  2024-03-17\n",
      "3  DUDEME Data Nerd | Programmer T Shirt | Coding...    499  2024-03-17\n"
     ]
    }
   ],
   "source": [
    "import pandas as pd\n",
    "df = pd.read_csv(r'C:\\Users\\hp\\AmazonWebScraperDataset.csv')\n",
    "print(df)"
   ]
  },
  {
   "cell_type": "code",
   "execution_count": 56,
   "id": "f0976e3d-4e81-4367-819f-f326aefe1b0c",
   "metadata": {},
   "outputs": [],
   "source": [
    "#now we are appending data to the csv\n",
    "\n",
    "\n",
    "with open('AmazonWebScraperDataset.csv', 'a+', newline = '',encoding = 'UTF8') as f:\n",
    "    writer = csv.writer(f)\n",
    "    writer.writerow(data)\n"
   ]
  },
  {
   "cell_type": "code",
   "execution_count": 62,
   "id": "e8fd3895-0ef5-4e37-bba5-41b2e61506ef",
   "metadata": {},
   "outputs": [],
   "source": [
    "#now we are automating it\n",
    "def check_price():\n",
    "    url = 'https://www.amazon.in/DUDEME-Programmer-Coding-Developer-T-Shirt/dp/B08SF4HF9J/ref=sr_1_fkmr2_1?crid=1VULECNBUWKLG&dib=eyJ2IjoiMSJ9.aNUH26ePpCpbB7AbIjC598dMrvZPu4IwLZN5Zl6E4_TYf8N0SmMGDygXTXhuD-9EAUc6lOW7IO1Mg6i8M-1R1vkbrOsLmxoCpehwx3u1ddDBg7_bvcO7fCUw_Qiafwou.8us4oik_Q5CO96q09HOS9Nftj_4zCGluk2jcKVIYn4M&dib_tag=se&keywords=data+analyst+shirt&qid=1710668029&sprefix=data+analyst+tshirt%2Caps%2C210&sr=8-1-fkmr2'\n",
    "\n",
    "    headers = {\"User-Agent\": \"Mozilla/5.0 (Windows NT 10.0; Win64; x64) AppleWebKit/537.36 (KHTML, like Gecko) Chrome/122.0.0.0 Safari/537.36\"}\n",
    "\n",
    "    page = requests.get(url, headers = headers)\n",
    "\n",
    "    soup1 = BeautifulSoup(page.content, \"html.parser\")\n",
    "    soup2 = BeautifulSoup(soup1.prettify(), 'html.parser')\n",
    "\n",
    "    title = soup2.find(id = \"productTitle\").get_text()\n",
    "    price = soup2.find(class_= 'a-price-whole').get_text()\n",
    "    \n",
    "    price = price.strip()\n",
    "    title = title.strip()\n",
    "\n",
    "    import datetime\n",
    "    today = datetime.date.today()\n",
    "\n",
    "    import csv\n",
    "\n",
    "    header = ['Title', 'Price', 'Date']\n",
    "    data = [title,price, today]\n",
    "\n",
    "    with open('AmazonWebScraperDataset.csv', 'a+', newline = '',encoding = 'UTF8') as f:\n",
    "        writer = csv.writer(f)\n",
    "        writer.writerow(data)\n",
    "\n"
   ]
  },
  {
   "cell_type": "code",
   "execution_count": 79,
   "id": "03dba2e7-32de-4689-9302-c17d2f500728",
   "metadata": {},
   "outputs": [
    {
     "ename": "KeyboardInterrupt",
     "evalue": "",
     "output_type": "error",
     "traceback": [
      "\u001b[1;31m---------------------------------------------------------------------------\u001b[0m",
      "\u001b[1;31mKeyboardInterrupt\u001b[0m                         Traceback (most recent call last)",
      "Cell \u001b[1;32mIn[79], line 3\u001b[0m\n\u001b[0;32m      1\u001b[0m \u001b[38;5;28;01mwhile\u001b[39;00m(\u001b[38;5;28;01mTrue\u001b[39;00m):\n\u001b[0;32m      2\u001b[0m     check_price()\n\u001b[1;32m----> 3\u001b[0m     time\u001b[38;5;241m.\u001b[39msleep(\u001b[38;5;241m5\u001b[39m)\n",
      "\u001b[1;31mKeyboardInterrupt\u001b[0m: "
     ]
    }
   ],
   "source": [
    "while(True):\n",
    "    check_price()\n",
    "    time.sleep(5)"
   ]
  },
  {
   "cell_type": "code",
   "execution_count": 1,
   "id": "0052aa0d-2032-4430-b981-51543a39699d",
   "metadata": {},
   "outputs": [
    {
     "name": "stdout",
     "output_type": "stream",
     "text": [
      "                                               Title  Price        Date\n",
      "0  DUDEME Data Nerd | Programmer T Shirt | Coding...    499  2024-03-17\n",
      "1  DUDEME Data Nerd | Programmer T Shirt | Coding...    499  2024-03-17\n",
      "2  DUDEME Data Nerd | Programmer T Shirt | Coding...    499  2024-03-17\n",
      "3  DUDEME Data Nerd | Programmer T Shirt | Coding...    499  2024-03-17\n",
      "4  DUDEME Data Nerd | Programmer T Shirt | Coding...    499  2024-03-17\n",
      "5  DUDEME Data Nerd | Programmer T Shirt | Coding...    499  2024-03-17\n",
      "6  DUDEME Data Nerd | Programmer T Shirt | Coding...    499  2024-03-17\n"
     ]
    }
   ],
   "source": [
    "import pandas as pd\n",
    "df = pd.read_csv(r'C:\\Users\\hp\\AmazonWebScraperDataset.csv')\n",
    "print(df)"
   ]
  },
  {
   "cell_type": "code",
   "execution_count": null,
   "id": "7233f158-8e2d-46db-b0f2-5fb367f17ad2",
   "metadata": {},
   "outputs": [],
   "source": []
  }
 ],
 "metadata": {
  "kernelspec": {
   "display_name": "Python 3 (ipykernel)",
   "language": "python",
   "name": "python3"
  },
  "language_info": {
   "codemirror_mode": {
    "name": "ipython",
    "version": 3
   },
   "file_extension": ".py",
   "mimetype": "text/x-python",
   "name": "python",
   "nbconvert_exporter": "python",
   "pygments_lexer": "ipython3",
   "version": "3.11.7"
  }
 },
 "nbformat": 4,
 "nbformat_minor": 5
}
